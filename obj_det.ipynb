{
 "cells": [
  {
   "cell_type": "code",
   "execution_count": 1,
   "id": "initial_id",
   "metadata": {
    "ExecuteTime": {
     "end_time": "2024-01-20T11:30:57.994083Z",
     "start_time": "2024-01-20T11:30:57.980696Z"
    },
    "collapsed": true
   },
   "outputs": [],
   "source": [
    "# TO-DO\n",
    "## To be implemented yet\n",
    "# Day 1: Spend building the front-end for iOS, android & web\n",
    "# Day 2: Spend building the deep learning CNN models, viz., YOLO to object detect license plates\n",
    "# Day 3: Spend semantically(character) segment numberplates and integrate with front-end"
   ]
  },
  {
   "cell_type": "code",
   "outputs": [
    {
     "name": "stdout",
     "output_type": "stream",
     "text": [
      " * Serving Flask app 'server'\r\n",
      " * Debug mode: on\r\n",
      "\u001B[31m\u001B[1mWARNING: This is a development server. Do not use it in a production deployment. Use a production WSGI server instead.\u001B[0m\r\n",
      " * Running on http://127.0.0.1:5000\r\n",
      "\u001B[33mPress CTRL+C to quit\u001B[0m\r\n",
      " * Restarting with stat\r\n",
      " * Debugger is active!\r\n",
      " * Debugger PIN: 949-036-341\r\n",
      "^C\r\n"
     ]
    }
   ],
   "source": [
    "!python './server.py'"
   ],
   "metadata": {
    "collapsed": false,
    "ExecuteTime": {
     "end_time": "2024-01-20T17:03:44.940344Z",
     "start_time": "2024-01-20T17:03:38.736208Z"
    }
   },
   "id": "d494ff18bb85a7fd",
   "execution_count": 19
  },
  {
   "cell_type": "code",
   "execution_count": 21,
   "id": "7602a9c139fc55dd",
   "metadata": {
    "collapsed": false,
    "ExecuteTime": {
     "end_time": "2024-01-20T17:07:25.168232Z",
     "start_time": "2024-01-20T17:07:25.155710Z"
    }
   },
   "outputs": [],
   "source": [
    "import matplotlib.pyplot as plt\n",
    "import numpy as np\n",
    "import cv2\n",
    "import tensorflow as tf\n",
    "import keras\n",
    "import easyocr\n",
    "# from keras import optimizers\n",
    "# from keras import Sequential\n",
    "# from keras.preprocessing.image import ImageDataGenerator\n",
    "# from keras.layers import Dense, Flatten, MaxPooling2D, Dropout, Conv2D"
   ]
  },
  {
   "cell_type": "code",
   "execution_count": 22,
   "id": "b325c06f7aee0920",
   "metadata": {
    "collapsed": false,
    "ExecuteTime": {
     "end_time": "2024-01-20T17:07:25.994652Z",
     "start_time": "2024-01-20T17:07:25.944940Z"
    }
   },
   "outputs": [],
   "source": [
    "# Avoid OOM errors by setting GPU Memory Consumption Growth\n",
    "gpus = tf.config.experimental.list_physical_devices('GPU')\n",
    "for gpu in gpus:\n",
    "    tf.config.experimental.set_memory_growth(gpu, True)"
   ]
  },
  {
   "cell_type": "code",
   "execution_count": 23,
   "id": "60f9036d0a5b2bbe",
   "metadata": {
    "collapsed": false,
    "ExecuteTime": {
     "end_time": "2024-01-20T17:07:26.496027Z",
     "start_time": "2024-01-20T17:07:26.493222Z"
    }
   },
   "outputs": [
    {
     "name": "stdout",
     "output_type": "stream",
     "text": [
      "Tensorflow version: 2.15.0 Keras version: 2.15.0\n"
     ]
    }
   ],
   "source": [
    "# Making sure of the tensorflow compatibility with the keras API/framework\n",
    "print(\"Tensorflow version: \" + tf.__version__ + \" Keras version: \" + keras.__version__)"
   ]
  },
  {
   "cell_type": "code",
   "execution_count": 24,
   "id": "2bba6df4d1dabe7e",
   "metadata": {
    "collapsed": false,
    "ExecuteTime": {
     "end_time": "2024-01-20T17:07:30.090139Z",
     "start_time": "2024-01-20T17:07:30.077785Z"
    }
   },
   "outputs": [],
   "source": [
    "plate_cascade = cv2.CascadeClassifier('./filters/indian_license_plate.xml')\n",
    "def detect_plate(img, text=''):\n",
    "    plate = None  # Initialize plate with None\n",
    "    plate_img = img.copy()\n",
    "    roi = img.copy()\n",
    "    plate_rect = plate_cascade.detectMultiScale(plate_img, scaleFactor=1.2, minNeighbors=7)\n",
    "    for (x, y, w, h) in plate_rect:\n",
    "        roi_ = roi[y:y+h, x:x+w, :]\n",
    "        plate = roi[y:y+h, x:x+w, :]\n",
    "        cv2.rectangle(plate_img, (x+2, y), (x+w-3, y+h-5), (51, 181, 155), 3)\n",
    "    if text != '' and plate is not None:\n",
    "        plate_img = cv2.putText(plate_img, text, (x-w//2, y-h//2), cv2.FONT_HERSHEY_COMPLEX_SMALL, 0.5, (51, 181, 155), 1, cv2.LINE_AA)\n",
    "\n",
    "    return plate_img, plate\n",
    "\n",
    "def display(img_, title=''):\n",
    "    img = cv2.cvtColor(img_, cv2.COLOR_BGR2RGB)\n",
    "    fig = plt.figure(figsize=(10,6))\n",
    "    ax = plt.subplot(111)\n",
    "    ax.imshow(img)\n",
    "    plt.axis('off')\n",
    "    plt.title(title)\n",
    "    plt.show()"
   ]
  },
  {
   "cell_type": "code",
   "outputs": [
    {
     "data": {
      "text/plain": "<matplotlib.image.AxesImage at 0x154702c10>"
     },
     "execution_count": 27,
     "metadata": {},
     "output_type": "execute_result"
    },
    {
     "data": {
      "text/plain": "<Figure size 640x480 with 1 Axes>",
      "image/png": "[encoded data removed]"
     },
     "metadata": {},
     "output_type": "display_data"
    }
   ],
   "source": [
    "imga = cv2.imread('./dataset/car_fort.jpg')\n",
    "cropped_image = detect_plate(imga)[1]\n",
    "plt.imshow(cropped_image)"
   ],
   "metadata": {
    "collapsed": false,
    "ExecuteTime": {
     "end_time": "2024-01-20T17:07:46.193612Z",
     "start_time": "2024-01-20T17:07:46.034813Z"
    }
   },
   "id": "816641df8c5eb52b",
   "execution_count": 27
  },
  {
   "cell_type": "code",
   "outputs": [
    {
     "name": "stdout",
     "output_type": "stream",
     "text": [
      "FORTUNER\n"
     ]
    }
   ],
   "source": [
    "reader = easyocr.Reader(['en'])\n",
    "result = reader.readtext(cropped_image)\n",
    "print(result[0][1])"
   ],
   "metadata": {
    "collapsed": false,
    "ExecuteTime": {
     "end_time": "2024-01-20T17:07:34.744651Z",
     "start_time": "2024-01-20T17:07:31.774850Z"
    }
   },
   "id": "415d058da9c387df",
   "execution_count": 26
  },
  {
   "cell_type": "code",
   "outputs": [],
   "source": [],
   "metadata": {
    "collapsed": false
   },
   "id": "6a911507d45e8419"
  }
 ],
 "metadata": {
  "kernelspec": {
   "display_name": "Python 3",
   "language": "python",
   "name": "python3"
  },
  "language_info": {
   "codemirror_mode": {
    "name": "ipython",
    "version": 2
   },
   "file_extension": ".py",
   "mimetype": "text/x-python",
   "name": "python",
   "nbconvert_exporter": "python",
   "pygments_lexer": "ipython2",
   "version": "2.7.6"
  }
 },
 "nbformat": 4,
 "nbformat_minor": 5
}
