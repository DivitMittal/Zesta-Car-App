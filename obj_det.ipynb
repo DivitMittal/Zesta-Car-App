{
 "cells": [
  {
   "cell_type": "code",
   "execution_count": null,
   "id": "initial_id",
   "metadata": {
    "collapsed": true
   },
   "outputs": [],
   "source": [
    "# TO-DO\n",
    "## To be implemented yet\n",
    "# Day 1: Spend building the front-end for iOS, android & web\n",
    "# Day 2: Spend building the deep learning CNN models, viz., YOLO to object detect license plates\n",
    "# Day 3: Spend semantically(character) segment numberplates and integrate with front-end\n"
   ]
  }
 ],
 "metadata": {
  "kernelspec": {
   "display_name": "Python 3",
   "language": "python",
   "name": "python3"
  },
  "language_info": {
   "codemirror_mode": {
    "name": "ipython",
    "version": 2
   },
   "file_extension": ".py",
   "mimetype": "text/x-python",
   "name": "python",
   "nbconvert_exporter": "python",
   "pygments_lexer": "ipython2",
   "version": "2.7.6"
  }
 },
 "nbformat": 4,
 "nbformat_minor": 5
}
